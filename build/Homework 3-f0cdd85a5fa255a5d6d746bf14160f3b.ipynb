{
 "cells": [
  {
   "cell_type": "markdown",
   "id": "fd92f85c-ebd0-4593-b77b-d92f08f278c3",
   "metadata": {},
   "source": [
    "# HOMEWORK II"
   ]
  },
  {
   "cell_type": "markdown",
   "id": "fdb4d5f5-9ee3-43ce-a000-53f3a6cdaf56",
   "metadata": {},
   "source": [
    "## Imports and stuff"
   ]
  },
  {
   "cell_type": "code",
   "execution_count": 4,
   "id": "0da9e18d-35be-4c78-af7f-350582b0affb",
   "metadata": {},
   "outputs": [],
   "source": [
    "import numpy as np\n",
    "import matplotlib.pyplot as plt\n",
    "from scipy.optimize import curve_fit\n",
    "\n",
    "#gauss distribution\n",
    "def carl_friedrich(x,a,mu,sig):\n",
    "    return a * np.exp(-(x - mu)**2/(2*sig**2))"
   ]
  },
  {
   "cell_type": "code",
   "execution_count": 5,
   "id": "508162bc-cf96-468a-b688-a9769e294ed7",
   "metadata": {},
   "outputs": [],
   "source": [
    "params = {\n",
    "      'text.latex.preamble': r\"\\usepackage{mlmodern}\",\n",
    "      'legend.fontsize': 9,\n",
    "      'axes.labelsize': 9,\n",
    "      'axes.titlesize': 11,\n",
    "      'xtick.labelsize' :9,\n",
    "      'ytick.labelsize' : 9,\n",
    "      #'mathtext.fontset': 'cm',\n",
    "      #'mathtext.rm': 'stixsans',\n",
    "      'font.family' : 'mlmodern', \n",
    "      #'font.family' : 'sans-serif',\n",
    "      'text.usetex' : True,\n",
    "      }\n",
    "plt.rcParams.update(params)"
   ]
  },
  {
   "cell_type": "markdown",
   "id": "8cd098cf-5ffb-40d3-bf5b-3ba5d55f33a4",
   "metadata": {},
   "source": [
    "## Generate data"
   ]
  },
  {
   "cell_type": "code",
   "execution_count": 6,
   "id": "55b340e6-e64d-4f27-b7f3-260119701a4c",
   "metadata": {},
   "outputs": [],
   "source": [
    "samples = 30000\n",
    "\n",
    "bg1 = np.random.uniform(0,1000,samples)\n",
    "bg2 = np.random.uniform(0,1000,samples)\n",
    "signal = np.random.normal(410, 50, 3000)\n",
    "\n",
    "bg_hist1, x = np.histogram(bg1, bins=100)\n",
    "bg_hist2, _ = np.histogram(bg2, bins=100)\n",
    "\n",
    "background = np.repeat((x[1:]+x[:-1])/2, np.abs(bg_hist1 - bg_hist2))\n",
    "data = np.concatenate((background, signal))"
   ]
  },
  {
   "cell_type": "code",
   "execution_count": 7,
   "id": "fed290d1-c87d-4452-9f11-d71379f6e36c",
   "metadata": {},
   "outputs": [
    {
     "data": {
      "image/png": "[encoded data removed]",
      "text/plain": [
       "<Figure size 640x480 with 1 Axes>"
      ]
     },
     "metadata": {},
     "output_type": "display_data"
    }
   ],
   "source": [
    "plt.hist(data, bins=100)\n",
    "#plt.hist(background,bins=100)\n",
    "plt.show()"
   ]
  },
  {
   "cell_type": "code",
   "execution_count": null,
   "id": "8ecdb783-2b03-4f1c-8c53-e81708c0ad61",
   "metadata": {},
   "outputs": [],
   "source": []
  }
 ],
 "metadata": {
  "kernelspec": {
   "display_name": "Python 3 (ipykernel)",
   "language": "python",
   "name": "python3"
  },
  "language_info": {
   "codemirror_mode": {
    "name": "ipython",
    "version": 3
   },
   "file_extension": ".py",
   "mimetype": "text/x-python",
   "name": "python",
   "nbconvert_exporter": "python",
   "pygments_lexer": "ipython3",
   "version": "3.10.12"
  }
 },
 "nbformat": 4,
 "nbformat_minor": 5
}
